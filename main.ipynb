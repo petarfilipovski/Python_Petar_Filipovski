{
 "cells": [
  {
   "cell_type": "markdown",
   "metadata": {},
   "source": [
    "#Python labb 1"
   ]
  },
  {
   "cell_type": "code",
   "execution_count": null,
   "metadata": {},
   "outputs": [],
   "source": [
    "import matplotlib.pyplot as plt\n",
    "from collections import Counter\n",
    "\n",
    "data = \"\"\">seq1\n",
    "cGTAaccaataaaaaaacaagcttaacctaattc\n",
    ">seq2\n",
    "agcttagTTTGGatctggccgggg\n",
    ">seq3\n",
    "gcggatttactcCCCCCAAAAANNaggggagagcccagataaatggagtctgtgcgtccaca\n",
    ">seq4\n",
    "gcggatttactcaggggagagcccagGGataaatggagtctgtgcgtccaca\n",
    "\"\"\"\n",
    "lines = data.splitlines()\n",
    "sequence = \"\"\n",
    "\">\"\n",
    "for line in lines:\n",
    "    if not line.startswith(\">\"):\n",
    "        sequence += line.strip().upper()\n",
    "count = Counter(sequence)\n"
   ]
  }
 ],
 "metadata": {
  "kernelspec": {
   "display_name": ".venv",
   "language": "python",
   "name": "python3"
  },
  "language_info": {
   "codemirror_mode": {
    "name": "ipython",
    "version": 3
   },
   "file_extension": ".py",
   "mimetype": "text/x-python",
   "name": "python",
   "nbconvert_exporter": "python",
   "pygments_lexer": "ipython3",
   "version": "3.12.8"
  }
 },
 "nbformat": 4,
 "nbformat_minor": 2
}
